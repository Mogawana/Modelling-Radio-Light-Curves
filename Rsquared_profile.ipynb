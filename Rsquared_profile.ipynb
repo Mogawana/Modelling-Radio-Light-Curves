{
 "cells": [
  {
   "cell_type": "markdown",
   "metadata": {},
   "source": [
    "We use a density distribution that drops off as $r^{-2}$, following a power law profile. This relationship is more common in density structure created by a Type II presupernova mass-loss."
   ]
  },
  {
   "cell_type": "code",
   "execution_count": 35,
   "metadata": {},
   "outputs": [],
   "source": [
    "import numpy as np\n",
    "import matplotlib.pyplot as plt\n",
    "import astropy.units as unt\n",
    "from matplotlib import rc, rcParams"
   ]
  },
  {
   "cell_type": "markdown",
   "metadata": {},
   "source": [
    "Radius from the center of the explosion."
   ]
  },
  {
   "cell_type": "code",
   "execution_count": 85,
   "metadata": {},
   "outputs": [],
   "source": [
    "pos_x = np.linspace(0.1, 6, 100)\n",
    "pos_y = np.linspace(0.1, 6, 100)\n",
    "pos_z = np.linspace(0.1, 6, 100)\n",
    "\n",
    "def radius(a, b, c):\n",
    "    r = np.sqrt(a**2 + b**2 + c**2)\n",
    "    return r\n",
    "\n",
    "rad = radius(pos_x, pos_y, pos_z)\n"
   ]
  },
  {
   "cell_type": "markdown",
   "metadata": {},
   "source": [
    "density of the circumstellar medium is given by\n",
    "\\begin{equation}\n",
    "\\rho_{cs} = \\frac{\\dot{M}}{4\\pi u_w r^2}\n",
    "\\end{equation}"
   ]
  },
  {
   "cell_type": "code",
   "execution_count": 86,
   "metadata": {},
   "outputs": [],
   "source": [
    "dM = 6*10**(-5) #Msol/yr\n",
    "u_w = 10 #KM/S\n",
    "r = rad\n",
    "den = dM/(4*np.pi*u_w*r)"
   ]
  },
  {
   "cell_type": "code",
   "execution_count": 87,
   "metadata": {},
   "outputs": [
    {
     "data": {
      "image/png": "[encoded data removed]",
      "text/plain": [
       "<Figure size 504x360 with 1 Axes>"
      ]
     },
     "metadata": {},
     "output_type": "display_data"
    }
   ],
   "source": [
    "fig, ax = plt.subplots(1, figsize=(7, 5))\n",
    "ax.plot(r, den)\n",
    "ax.set_xlabel(r'r')\n",
    "ax.set_ylabel(r'$\\rho_{cs}$')\n",
    "ax.ticklabel_format(style='sci', scilimits=(0.0, 0.0), axis='y')"
   ]
  },
  {
   "cell_type": "markdown",
   "metadata": {},
   "source": [
    "For the specific self-similar case we consider, $n=12$ and $s=2$ and we set $\\gamma$=2. Thus $m =(n-3)/(n-s)$ "
   ]
  },
  {
   "cell_type": "code",
   "execution_count": 88,
   "metadata": {},
   "outputs": [],
   "source": [
    "# All the observation dependent parameters\n",
    "\n",
    "beta = -0.78\n",
    "delta = -2.96\n",
    "alpha = -0.74\n",
    "gamma = 2.5\n",
    "m = -delta/3"
   ]
  },
  {
   "cell_type": "markdown",
   "metadata": {},
   "source": [
    "Calculating the the optical depth of the shocked medium "
   ]
  },
  {
   "cell_type": "code",
   "execution_count": 99,
   "metadata": {},
   "outputs": [],
   "source": [
    "t = np.linspace(10, 250, 100) #days\n",
    "freq = 15 #GHz\n",
    "eta = -(gamma - 7 + 12*m) / 4\n",
    "b = -(gamma - 5 + 6*m) / 2\n",
    "a = (1 - gamma) / 2"
   ]
  },
  {
   "cell_type": "markdown",
   "metadata": {},
   "source": [
    "Calculating the optical depth from the emission of the shocked material."
   ]
  },
  {
   "cell_type": "code",
   "execution_count": 100,
   "metadata": {},
   "outputs": [],
   "source": [
    "tau = (freq**(-2.1)) * (t**delta) * (dM/(4*np.pi*u_w*r))**(5-delta)"
   ]
  },
  {
   "cell_type": "markdown",
   "metadata": {},
   "source": [
    "Calculating the radio flux density from the emission of the shocked material."
   ]
  },
  {
   "cell_type": "code",
   "execution_count": 101,
   "metadata": {},
   "outputs": [
    {
     "name": "stdout",
     "output_type": "stream",
     "text": [
      "100\n"
     ]
    }
   ],
   "source": [
    "S_v = (freq**a) * (t**b) * (dM/(4*np.pi*u_w*r))**eta * np.exp(-tau)\n"
   ]
  },
  {
   "cell_type": "code",
   "execution_count": 102,
   "metadata": {},
   "outputs": [
    {
     "data": {
      "text/plain": [
       "Text(0,0.5,'$S(\\\\nu)$')"
      ]
     },
     "execution_count": 102,
     "metadata": {},
     "output_type": "execute_result"
    },
    {
     "data": {
      "image/png": "[encoded data removed]",
      "text/plain": [
       "<Figure size 504x360 with 1 Axes>"
      ]
     },
     "metadata": {},
     "output_type": "display_data"
    }
   ],
   "source": [
    "fig, ax = plt.subplots(1, figsize=(7, 5))\n",
    "ax.plot(t, S_v)\n",
    "ax.set_xlabel(\"days\")\n",
    "ax.set_ylabel(r\"$S(\\nu)$\")"
   ]
  },
  {
   "cell_type": "code",
   "execution_count": null,
   "metadata": {},
   "outputs": [],
   "source": []
  }
 ],
 "metadata": {
  "kernelspec": {
   "display_name": "Python 3",
   "language": "python",
   "name": "python3"
  },
  "language_info": {
   "codemirror_mode": {
    "name": "ipython",
    "version": 3
   },
   "file_extension": ".py",
   "mimetype": "text/x-python",
   "name": "python",
   "nbconvert_exporter": "python",
   "pygments_lexer": "ipython3",
   "version": "3.6.5"
  }
 },
 "nbformat": 4,
 "nbformat_minor": 2
}
