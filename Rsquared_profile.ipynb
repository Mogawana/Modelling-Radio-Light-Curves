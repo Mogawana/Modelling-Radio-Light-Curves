{
 "cells": [
  {
   "cell_type": "markdown",
   "metadata": {},
   "source": [
    "We use a density distribution that drops off as $r^{-2}$, following a power law profile. This relationship is more common in density structure created by a Type II presupernova mass-loss."
   ]
  },
  {
   "cell_type": "code",
   "execution_count": 1,
   "metadata": {},
   "outputs": [],
   "source": [
    "import numpy as np\n",
    "import matplotlib.pyplot as plt\n",
    "import astropy.units as unt\n",
    "import scipy.integrate as integrate\n",
    "from matplotlib import rc, rcParams"
   ]
  },
  {
   "cell_type": "code",
   "execution_count": 2,
   "metadata": {},
   "outputs": [],
   "source": [
    "# Setting up the radius from the center of the explosion.\n",
    "\n",
    "pos_x = np.linspace(2.2546e-5, 1.5, 1000)*unt.pc\n",
    "pos_x = pos_x.to(unt.cm).value\n",
    "pos_y = np.linspace(2.2546e-5, 1.5, 1000)*unt.pc\n",
    "pos_y = pos_y.to(unt.cm).value\n",
    "pos_z = np.linspace(2.2546e-5, 1.5, 1000)*unt.pc\n",
    "pos_z = pos_z.to(unt.cm).value\n",
    "\n",
    "def radius(a, b, c):\n",
    "    r = np.sqrt(a**2 + b**2 + c**2)\n",
    "    return r\n",
    "\n",
    "rad = radius(pos_x, pos_y, pos_z) # cm\n"
   ]
  },
  {
   "cell_type": "markdown",
   "metadata": {},
   "source": [
    "density of the circumstellar medium is given by\n",
    "\\begin{equation}\n",
    "\\rho_{cs} = \\frac{\\dot{M}}{4\\pi u_w r^2}\n",
    "\\end{equation}"
   ]
  },
  {
   "cell_type": "code",
   "execution_count": 3,
   "metadata": {},
   "outputs": [],
   "source": [
    "dM = 6e-5 #Msol/yr\n",
    "dM = 5.6658e21 #g/s\n",
    "\n",
    "u_w = 10*(unt.km/unt.s) #km/s\n",
    "u_w = u_w.to(unt.cm/unt.s).value #cm/s\n",
    "\n",
    "den = dM/(4*np.pi*u_w*rad**2) #g/cm^3\n"
   ]
  },
  {
   "cell_type": "code",
   "execution_count": 4,
   "metadata": {},
   "outputs": [
    {
     "data": {
      "image/png": "[encoded data removed]",
      "text/plain": [
       "<Figure size 504x360 with 1 Axes>"
      ]
     },
     "metadata": {},
     "output_type": "display_data"
    }
   ],
   "source": [
    "fig, ax = plt.subplots(1, figsize=(7, 5))\n",
    "ax.plot(rad, den, '-', lw=3)\n",
    "ax.set_xlabel(r'r [cm]')\n",
    "ax.set_ylabel(r'$\\rho_{cs} \\, [\\frac{g}{cm^3}]$')\n",
    "ax.ticklabel_format(style='sci', scilimits=(0.0, 0.0), axis='y')\n",
    "ax.set_xscale('log')\n",
    "ax.set_yscale('log')"
   ]
  },
  {
   "cell_type": "markdown",
   "metadata": {},
   "source": [
    "For the specific self-similar case we consider, $n=12$ and $s=2$ and we set $\\gamma=2$. Thus $m =(n-3)/(n-s)$. These parameters can be adjusted based on the observation dependent parameters to have a self-consistent solution reflecting the fitting of the observed light curves."
   ]
  },
  {
   "cell_type": "markdown",
   "metadata": {},
   "source": [
    "A solid angle (symbol: $\\Omega$) is a measure of the amount of the field of view from some particular point that a given object covers. That is, it is a measure of how large the object appears to an observer looking from that point. The point from which the object is viewed is called the apex of the solid angle, and the object is said to subtend its solid angle from that point. An object's solid angle in steradians is equal to the area of the segment of a unit sphere, centered at the apex, that the object covers.\n",
    "\n",
    "**\"You take a surface. Then you project it onto a unit sphere (a sphere of radius 1). Then you calculate the surface area\n",
    "of your projection. That’s it\"**\n",
    "\n",
    "A solid angle in steradians is the following ratio $\\Omega = \\frac{A}{r^2}$, where $A$ is the spherical surface area and $r$ is the radius of the considered sphere with the surface area of a sphere being $A = 4\\pi r^2$. Thus, the solid angle of a sphere measured from any point in its interior is $4\\pi \\, \\mbox{sr}$. In spherical coordinates there is a formula for the differential, \n",
    "$$d\\Omega = \\sin{\\theta} \\, d\\theta \\, d\\phi$$\n",
    "\n",
    "Solid angle ($\\Omega$) is a two dimensional angle in 3-D space & it is given by the surface (double) integral as follows:\n",
    "\n",
    "$$\\Omega = \\frac{A}{r^2} = \\frac{ \\int \\int_S r^2 \\sin(\\theta) d\\theta d\\phi}{r^2} = \\int \\int_S \\sin\\theta d\\theta d\\phi$$\n",
    "\n",
    "Now, applying the limits, $\\theta$=\n",
    "angle of longitude and $\\phi$= angle of colatitude and integrating over the entire surface of a sphere, we get\n",
    "\n",
    "$$\\Omega = \\int^{2\\pi}_0 d\\phi \\int^\\pi_0 \\sin\\theta d\\theta$$\n",
    "\n",
    "$$\\Omega = \\int^{2\\pi}_0 d\\phi[−cos\\theta]^{\\pi}_0 = 2\\int^{2\\pi}_0 d\\phi = 2[\\phi]^{2}_0 = 2 [2\\pi]=4\\pi$$\n",
    "\n",
    "where $S$ denotes an integral over the surface (the projection of your object onto\n",
    "the sphere).\n",
    "\n",
    "![alt text](solid.png \"Any area on a sphere which is equal in area to the square of its radius, when observed from its center, subtends precisely one steradian.\")"
   ]
  },
  {
   "cell_type": "markdown",
   "metadata": {},
   "source": [
    "The solid angle of a cone with its apex at the apex of the solid angle, and with apex angle $2\\Theta$, is the area of a spherical cap on a unit sphere. Let’s say the angle, $\\Theta$ (angle at which the cone opens) is fixed, since the cone doesn’t change. As it happens, this is also the colatitude $\\phi$, so we can integrate $\\phi$ from 0 to $\\Theta$. If the circle projected by the cone lies perfectly on a line of latitude, this makes our calculation much easier, since that means we can integrate longitude $\\theta$ from $0$ to $2\\pi$. By computing the following double integral using the unit surface element in spherical coordinates,\n",
    "\n",
    "\\begin{equation}\n",
    "\\Omega = \\int^{2\\pi}_0  \\int^\\Theta_0 \\sin{\\phi} d\\theta d\\phi = \\int^{2\\pi}_0 d\\theta \\int^\\Theta_0 \\sin{\\phi} d\\phi = 2\\pi\\left[-\\cos{\\theta} \\right]^{\\Theta}_0 = 2\\pi(1 - \\cos{\\Theta})\n",
    "\\end{equation}\n",
    "\n",
    "![alt text](cone.png \"Section of cone (1) and spherical cap (2) inside a sphere. \")"
   ]
  },
  {
   "cell_type": "code",
   "execution_count": 5,
   "metadata": {},
   "outputs": [],
   "source": [
    "# All the observation dependent parameters ofSN 1993J\n",
    "\n",
    "alpha = -0.81\n",
    "beta = -0.73\n",
    "delta = -1.88\n",
    "m = -delta/3\n",
    "\n",
    "gamma = 1 - 2*alpha\n",
    "\n"
   ]
  },
  {
   "cell_type": "markdown",
   "metadata": {},
   "source": [
    "\\begin{equation}\n",
    "   \\tau_{\\nu} \\propto \\left( \\frac{\\dot{M}}{u_w}  \\right)^{5-3m} t^{\\delta} \\nu^{-2.1}\n",
    "\\end{equation}\n",
    "\n",
    "\\begin{equation}\n",
    " S(\\nu) \\propto \\int \\nu^{\\alpha}t^{\\beta} \\left(\\frac{\\dot{M}}{u_w} \\right)^{\\eta}e^{-\\tau_{\\nu}}d\\Omega,\n",
    "\\end{equation}\n",
    "\n",
    "$\\alpha = (1-\\gamma)/2$\n",
    "\n",
    "$\\beta = -(\\gamma+5-6m)/2$\n",
    "\n",
    "$\\eta = (\\gamma-7+12m)/4$\n",
    "\n",
    "$\\delta = -3m$"
   ]
  },
  {
   "cell_type": "code",
   "execution_count": 6,
   "metadata": {},
   "outputs": [],
   "source": [
    "time = np.linspace(2, 1000, 1000)*unt.day #days\n",
    "time = time.to(unt.s).value\n",
    "\n",
    "theta = np.linspace(0, 2*np.pi, 1000)\n",
    "phi = np.linspace(0, np.pi, 1000)\n",
    "#phi = np.linspace(0, np.pi, 1000)\n",
    "\n",
    "#freq = [1.4, 4.9, 8.3, 14, 23] #GHz\n",
    "f = 14*unt.GHz\n",
    "f = f.to(unt.Hz).value\n",
    "\n",
    "eta = (gamma - 7 + 12*m) / 4\n",
    "#b = -(gamma - 5 + 6*m) / 2\n",
    "#a = (1 - gamma) / 2\n"
   ]
  },
  {
   "cell_type": "code",
   "execution_count": 7,
   "metadata": {},
   "outputs": [],
   "source": [
    "# Calculating the optical depth from the emission of the shocked material.\n",
    "def int_optical_depth(t, mu):\n",
    "    \n",
    "    OPTICAL_DEPTH = (mu**(-2.1)) * (t**delta) * (den)**(5+delta)\n",
    "\n",
    "    return(OPTICAL_DEPTH)\n",
    "\n",
    "\n",
    "# Calculating the radio flux density from the emission of the shocked material.\n",
    "def int_flux_density(t, mu, tau):\n",
    "\n",
    "    FLUX_DENSITY = (mu**alpha) * (t**beta) * (den)**eta * np.exp(tau)\n",
    "    #FLUX_DENSITY = (mu**alpha) * (t**beta) * (den)**eta * np.exp(-tau) * (2*np.pi*(1-np.cos(0.00203622)))\n",
    "    #FLUX_DENSITY = (mu**alpha) * (t**beta) * (den)**eta * np.exp(-tau) * (2*np.pi*(1-np.cos(p)))\n",
    "    \n",
    "    return(FLUX_DENSITY)\n",
    "\n",
    "\n"
   ]
  },
  {
   "cell_type": "markdown",
   "metadata": {},
   "source": [
    "The synchrotron spectrum of a single electron has a logarithmic slope of 1/3 at low frequencies, a broad peak near the critical frequency $\\nu$ max, and falls off sharply at higher frequencies."
   ]
  },
  {
   "cell_type": "markdown",
   "metadata": {},
   "source": [
    "\\begin{equation}\n",
    "1 \\mbox{Jy} = 10^{-23} \\frac{\\mbox{erg}}{\\mbox{s} \\, \\mbox{cm}^2 \\mbox{Hz}}\n",
    "\\end{equation}\n"
   ]
  },
  {
   "cell_type": "markdown",
   "metadata": {},
   "source": [
    "\\begin{equation}\n",
    "1 \\mbox{day} = 86400 \\, \\mbox{sec}\n",
    "\\end{equation}\n"
   ]
  },
  {
   "cell_type": "code",
   "execution_count": 22,
   "metadata": {},
   "outputs": [],
   "source": [
    "opt_sum = int_optical_depth(time, f)\n",
    "flux_sum = int_flux_density(time, f, opt_sum)\n",
    "\n",
    "# intergrating over the entire solid angle and time\n",
    "for j in range(len(opt_sum)):\n",
    "    \n",
    "    S_v = integrate.cumtrapz(flux_sum, phi*theta, initial=0)*opt_sum[j]"
   ]
  },
  {
   "cell_type": "code",
   "execution_count": 24,
   "metadata": {},
   "outputs": [
    {
     "data": {
      "text/plain": [
       "Text(0.5,0,'days')"
      ]
     },
     "execution_count": 24,
     "metadata": {},
     "output_type": "execute_result"
    },
    {
     "data": {
      "image/png": "[encoded data removed]",
      "text/plain": [
       "<Figure size 1080x360 with 1 Axes>"
      ]
     },
     "metadata": {},
     "output_type": "display_data"
    }
   ],
   "source": [
    "ig, ax = plt.subplots(1, figsize=(15, 5))\n",
    "#ax.plot(np.log10(time/86400), np.log10(S_v*(10**(23)), '-')\n",
    "#ax.legend(freq, loc=1)\n",
    "#plt.loglog((time/86400), S_v*(10**(23)), '-')\n",
    "#plt.plot((time/86400), flux_sum*(1e23),'-', S_v*(1e23), '--', lw=2)\n",
    "plt.plot((time/86400), opt_sum,'-', lw=2)\n",
    "ax.set_xlabel(\"days\")\n",
    "#ax.set_ylabel(r\"$S(\\nu) \\, [mJy]$\")\n",
    "#ax.set_xscale('log')\n",
    "#ax.set_yscale('log')\n",
    "#plt.savefig(\"light_curve.png\")\n"
   ]
  },
  {
   "cell_type": "code",
   "execution_count": 23,
   "metadata": {},
   "outputs": [
    {
     "data": {
      "image/png": "[encoded data removed]",
      "text/plain": [
       "<Figure size 1080x360 with 1 Axes>"
      ]
     },
     "metadata": {},
     "output_type": "display_data"
    }
   ],
   "source": [
    "fig, ax = plt.subplots(1, figsize=(15, 5))\n",
    "#ax.plot(np.log10(time/86400), np.log10(S_v*(10**(23)), '-')\n",
    "#ax.legend(freq, loc=1)\n",
    "#plt.loglog((time/86400), S_v*(10**(23)), '-')\n",
    "#plt.plot((time/86400), flux_sum*(1e23),'-', S_v*(1e23), '--', lw=2)\n",
    "plt.plot((time/86400), S_v*(1e23),'-', lw=2)\n",
    "ax.set_xlabel(\"days\")\n",
    "ax.set_ylabel(r\"$S(\\nu) \\, [mJy]$\")\n",
    "ax.set_xscale('log')\n",
    "ax.set_yscale('log')\n",
    "#plt.savefig(\"light_curve.png\")\n"
   ]
  },
  {
   "cell_type": "code",
   "execution_count": 55,
   "metadata": {},
   "outputs": [
    {
     "ename": "NameError",
     "evalue": "name 'freq' is not defined",
     "output_type": "error",
     "traceback": [
      "\u001b[0;31m---------------------------------------------------------------------------\u001b[0m",
      "\u001b[0;31mNameError\u001b[0m                                 Traceback (most recent call last)",
      "\u001b[0;32m<ipython-input-55-9dba8f695759>\u001b[0m in \u001b[0;36m<module>\u001b[0;34m()\u001b[0m\n\u001b[1;32m      1\u001b[0m \u001b[0mfig\u001b[0m\u001b[0;34m,\u001b[0m \u001b[0max\u001b[0m \u001b[0;34m=\u001b[0m \u001b[0mplt\u001b[0m\u001b[0;34m.\u001b[0m\u001b[0msubplots\u001b[0m\u001b[0;34m(\u001b[0m\u001b[0;36m1\u001b[0m\u001b[0;34m,\u001b[0m \u001b[0mfigsize\u001b[0m\u001b[0;34m=\u001b[0m\u001b[0;34m(\u001b[0m\u001b[0;36m15\u001b[0m\u001b[0;34m,\u001b[0m \u001b[0;36m5\u001b[0m\u001b[0;34m)\u001b[0m\u001b[0;34m)\u001b[0m\u001b[0;34m\u001b[0m\u001b[0m\n\u001b[1;32m      2\u001b[0m \u001b[0;34m\u001b[0m\u001b[0m\n\u001b[0;32m----> 3\u001b[0;31m \u001b[0;32mfor\u001b[0m \u001b[0mf\u001b[0m \u001b[0;32min\u001b[0m \u001b[0mfreq\u001b[0m\u001b[0;34m:\u001b[0m\u001b[0;34m\u001b[0m\u001b[0m\n\u001b[0m\u001b[1;32m      4\u001b[0m     \u001b[0mopt_sum\u001b[0m \u001b[0;34m=\u001b[0m \u001b[0mint_optical_depth\u001b[0m\u001b[0;34m(\u001b[0m\u001b[0mtime\u001b[0m\u001b[0;34m,\u001b[0m \u001b[0mf\u001b[0m\u001b[0;34m)\u001b[0m\u001b[0;34m\u001b[0m\u001b[0m\n\u001b[1;32m      5\u001b[0m     \u001b[0mtau_v\u001b[0m \u001b[0;34m=\u001b[0m \u001b[0mintegrate\u001b[0m\u001b[0;34m.\u001b[0m\u001b[0mcumtrapz\u001b[0m\u001b[0;34m(\u001b[0m\u001b[0mopt_sum\u001b[0m\u001b[0;34m,\u001b[0m \u001b[0mtime\u001b[0m\u001b[0;34m,\u001b[0m \u001b[0minitial\u001b[0m\u001b[0;34m=\u001b[0m\u001b[0;36m0\u001b[0m\u001b[0;34m)\u001b[0m\u001b[0;34m\u001b[0m\u001b[0m\n",
      "\u001b[0;31mNameError\u001b[0m: name 'freq' is not defined"
     ]
    },
    {
     "data": {
      "image/png": "[encoded data removed]",
      "text/plain": [
       "<Figure size 1080x360 with 1 Axes>"
      ]
     },
     "metadata": {},
     "output_type": "display_data"
    }
   ],
   "source": [
    "fig, ax = plt.subplots(1, figsize=(15, 5))\n",
    "\n",
    "for f in freq:\n",
    "    opt_sum = int_optical_depth(time, f)\n",
    "    tau_v = integrate.cumtrapz(opt_sum, time, initial=0)\n",
    "    \n",
    "    flux_sum = int_flux_density(time, f, tau_v)\n",
    "    S_v = integrate.cumtrapz(flux_sum, time, initial=0)\n",
    "    \n",
    "    ax.plot(time, S_v)\n",
    "    ax.legend(freq, loc=1)\n",
    "ax.set_xlabel(\"days\")\n",
    "ax.set_ylabel(r\"$S(\\nu) [mJy]$\")\n",
    "plt.savefig(\"light_curve.png\")\n"
   ]
  },
  {
   "cell_type": "code",
   "execution_count": 11,
   "metadata": {},
   "outputs": [],
   "source": [
    "K1 = 4.14e3\n",
    "apl= -0.99\n",
    "bet = -0.64\n",
    "K2 = 1.35e3\n",
    "delt = -0.99"
   ]
  },
  {
   "cell_type": "code",
   "execution_count": 14,
   "metadata": {},
   "outputs": [
    {
     "data": {
      "text/plain": [
       "Text(21.2,0.5,'$S(\\\\nu) [mJy]$')"
      ]
     },
     "execution_count": 14,
     "metadata": {},
     "output_type": "execute_result"
    },
    {
     "data": {
      "image/png": "[encoded data removed]",
      "text/plain": [
       "<Figure size 432x288 with 1 Axes>"
      ]
     },
     "metadata": {},
     "output_type": "display_data"
    }
   ],
   "source": [
    "fq = [1.4, 4.9, 8.3, 14, 23] #GHz\n",
    "for f in fq:\n",
    "    \n",
    "    T = K2 * (f/5)**(-2.1) * (time/86400)**delt\n",
    "    S = K1 * (f/5)**apl * (time/86400)**bet * np.exp(-T)\n",
    "    plt.plot(time/86400, S)\n",
    "\n",
    "    ax.plot(time, S_v)\n",
    "    ax.legend(fq, loc=1)\n",
    "ax.set_xlabel(\"days\")\n",
    "ax.set_ylabel(r\"$S(\\nu) [mJy]$\")\n",
    "#plt.savefig(\"light_curve.png\")\n",
    "\n",
    "\n"
   ]
  },
  {
   "cell_type": "code",
   "execution_count": null,
   "metadata": {},
   "outputs": [],
   "source": []
  }
 ],
 "metadata": {
  "kernelspec": {
   "display_name": "Python [default]",
   "language": "python",
   "name": "python3"
  },
  "language_info": {
   "codemirror_mode": {
    "name": "ipython",
    "version": 3
   },
   "file_extension": ".py",
   "mimetype": "text/x-python",
   "name": "python",
   "nbconvert_exporter": "python",
   "pygments_lexer": "ipython3",
   "version": "3.5.5"
  }
 },
 "nbformat": 4,
 "nbformat_minor": 2
}
