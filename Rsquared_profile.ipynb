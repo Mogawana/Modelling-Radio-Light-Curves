{
 "cells": [
  {
   "cell_type": "code",
   "execution_count": 36,
   "metadata": {},
   "outputs": [],
   "source": [
    "import numpy as np\n",
    "import matplotlib.pyplot as plt\n",
    "import astropy.units as unt\n",
    "from matplotlib import rc, rcParams"
   ]
  },
  {
   "cell_type": "markdown",
   "metadata": {},
   "source": [
    "Radius from the center of the explosion."
   ]
  },
  {
   "cell_type": "code",
   "execution_count": 37,
   "metadata": {},
   "outputs": [],
   "source": [
    "pos_x = np.linspace(0.1, 6, 1000)\n",
    "pos_y = np.linspace(0.1, 6, 1000)\n",
    "pos_z = np.linspace(0.1, 6, 1000)\n",
    "\n",
    "def radius(a, b, c):\n",
    "    r = np.sqrt(a**2 + b**2 + c**2)\n",
    "    return r\n",
    "\n",
    "rad = radius(pos_x, pos_y, pos_z)\n"
   ]
  },
  {
   "cell_type": "markdown",
   "metadata": {},
   "source": [
    "density of the circumstellar medium is given by\n",
    "\\begin{equation}\n",
    "\\rho_{cs} = \\frac{\\dot{M}}{4\\pi u_w r^2}\n",
    "\\end{equation}"
   ]
  },
  {
   "cell_type": "code",
   "execution_count": 38,
   "metadata": {},
   "outputs": [],
   "source": [
    "dM = 6*10**(-5) #Msol/yr\n",
    "u_w = 10 #KM/S\n",
    "r = rad\n",
    "den = dM/(4*np.pi*u_w*r)"
   ]
  },
  {
   "cell_type": "code",
   "execution_count": 40,
   "metadata": {},
   "outputs": [
    {
     "data": {
      "image/png": "[encoded data removed]",
      "text/plain": [
       "<Figure size 504x360 with 1 Axes>"
      ]
     },
     "metadata": {},
     "output_type": "display_data"
    }
   ],
   "source": [
    "fig, ax = plt.subplots(figsize=(7, 5))\n",
    "ax.plot(r, den)\n",
    "ax.set_xlabel(r'r')\n",
    "ax.set_ylabel(r'$\\rho_{cs}$')\n",
    "ax.ticklabel_format(style='sci', scilimits=(0.0, 0.0), axis='y')"
   ]
  },
  {
   "cell_type": "code",
   "execution_count": null,
   "metadata": {},
   "outputs": [],
   "source": []
  }
 ],
 "metadata": {
  "kernelspec": {
   "display_name": "Python 3",
   "language": "python",
   "name": "python3"
  },
  "language_info": {
   "codemirror_mode": {
    "name": "ipython",
    "version": 3
   },
   "file_extension": ".py",
   "mimetype": "text/x-python",
   "name": "python",
   "nbconvert_exporter": "python",
   "pygments_lexer": "ipython3",
   "version": "3.6.5"
  }
 },
 "nbformat": 4,
 "nbformat_minor": 2
}
